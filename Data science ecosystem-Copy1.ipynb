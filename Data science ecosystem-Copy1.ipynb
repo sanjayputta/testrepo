{
 "cells": [
  {
   "cell_type": "markdown",
   "id": "33d57418",
   "metadata": {},
   "source": [
    "#Data Science Tools and Ecosystem"
   ]
  },
  {
   "cell_type": "markdown",
   "id": "2f7a643f",
   "metadata": {},
   "source": [
    "In this notebook, Data Science Tools and Ecosystem are summarized"
   ]
  },
  {
   "cell_type": "markdown",
   "id": "5be86bff",
   "metadata": {},
   "source": [
    "OBJECTIVES :\n",
    "   * tools for data science\n",
    "   * languages\n",
    "   * open sourcetools\n",
    "   * data manipulation"
   ]
  },
  {
   "cell_type": "markdown",
   "id": "c41828d5",
   "metadata": {},
   "source": [
    "# Some of the popular languages that data scientists used are\n",
    "1. Python \n",
    "2. Java\n",
    "3. SQL"
   ]
  },
  {
   "cell_type": "markdown",
   "id": "ecf61110",
   "metadata": {},
   "source": [
    "Some of the commonly used libraries used by data scientists are\n",
    "1. pandas\n",
    "2. numpy\n",
    "3. scipy"
   ]
  },
  {
   "cell_type": "markdown",
   "id": "36d05ebf",
   "metadata": {},
   "source": [
    "|Data Science Tools|\n",
    "|------------------|\n",
    "|My SQL|\n",
    "|Hadoop|\n",
    "|apache|"
   ]
  },
  {
   "cell_type": "markdown",
   "id": "e841ef95",
   "metadata": {},
   "source": [
    "###Below are a few examples of evaluating arithmetic expressions in Python"
   ]
  },
  {
   "cell_type": "code",
   "execution_count": 1,
   "id": "f0b8a62e",
   "metadata": {},
   "outputs": [
    {
     "data": {
      "text/plain": [
       "17"
      ]
     },
     "execution_count": 1,
     "metadata": {},
     "output_type": "execute_result"
    }
   ],
   "source": [
    "(3*4)+5"
   ]
  },
  {
   "cell_type": "code",
   "execution_count": 10,
   "id": "2215ac50",
   "metadata": {},
   "outputs": [
    {
     "data": {
      "text/plain": [
       "3.3333333333333335"
      ]
     },
     "execution_count": 10,
     "metadata": {},
     "output_type": "execute_result"
    }
   ],
   "source": [
    "200/60"
   ]
  },
  {
   "cell_type": "markdown",
   "id": "597f54bc",
   "metadata": {},
   "source": [
    "# Author\n",
    "sanjay kumar putta"
   ]
  },
  {
   "cell_type": "code",
   "execution_count": null,
   "id": "770bc971",
   "metadata": {},
   "outputs": [],
   "source": []
  }
 ],
 "metadata": {
  "kernelspec": {
   "display_name": "Python 3 (ipykernel)",
   "language": "python",
   "name": "python3"
  },
  "language_info": {
   "codemirror_mode": {
    "name": "ipython",
    "version": 3
   },
   "file_extension": ".py",
   "mimetype": "text/x-python",
   "name": "python",
   "nbconvert_exporter": "python",
   "pygments_lexer": "ipython3",
   "version": "3.10.11"
  }
 },
 "nbformat": 4,
 "nbformat_minor": 5
}
